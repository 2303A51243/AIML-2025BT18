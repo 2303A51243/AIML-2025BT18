{
  "nbformat": 4,
  "nbformat_minor": 0,
  "metadata": {
    "colab": {
      "provenance": [],
      "authorship_tag": "ABX9TyN9akIi4H18T4QwINx4eryX",
      "include_colab_link": true
    },
    "kernelspec": {
      "name": "python3",
      "display_name": "Python 3"
    },
    "language_info": {
      "name": "python"
    }
  },
  "cells": [
    {
      "cell_type": "markdown",
      "metadata": {
        "id": "view-in-github",
        "colab_type": "text"
      },
      "source": [
        "<a href=\"https://colab.research.google.com/github/2303A51243/AIML-2025BT18/blob/main/K_Pallavi_2303A51243_B18.ipynb\" target=\"_parent\"><img src=\"https://colab.research.google.com/assets/colab-badge.svg\" alt=\"Open In Colab\"/></a>"
      ]
    },
    {
      "cell_type": "code",
      "execution_count": 1,
      "metadata": {
        "colab": {
          "base_uri": "https://localhost:8080/"
        },
        "id": "LaWm4OgJChlp",
        "outputId": "3b710654-b8d3-4bfa-ee13-abbde02fb52d"
      },
      "outputs": [
        {
          "output_type": "stream",
          "name": "stdout",
          "text": [
            "Top 5 reasons for healthy aging:\n",
            "Dental Health                         3.009804\n",
            "Employment                            2.806723\n",
            "Phyiscal Health                       2.794118\n",
            "Mental Health                         1.988796\n",
            "Stress Keeps Patient from Sleeping    0.247899\n",
            "dtype: float64\n"
          ]
        }
      ],
      "source": [
        "import pandas as pd\n",
        "\n",
        "# Load the CSV file\n",
        "file_path = '/content/NPHA-doctor-visits.csv'  # Update with the correct path\n",
        "data = pd.read_csv(file_path)\n",
        "\n",
        "# Correct column names based on the dataset\n",
        "columns_of_interest = ['Phyiscal Health', 'Mental Health', 'Dental Health',\n",
        "                        'Employment', 'Stress Keeps Patient from Sleeping']\n",
        "\n",
        "# Calculate the mean of each factor\n",
        "factor_means = data[columns_of_interest].mean()\n",
        "\n",
        "# Identify the top 5 factors\n",
        "top_5_reasons = factor_means.sort_values(ascending=False).head(5)\n",
        "\n",
        "# Display the results\n",
        "print(\"Top 5 reasons for healthy aging:\")\n",
        "print(top_5_reasons)"
      ]
    },
    {
      "cell_type": "code",
      "source": [
        "# Group by 'Race' (or another community-related column) and calculate the average of health-related columns\n",
        "community_health = data.groupby('Race')[['Phyiscal Health', 'Mental Health', 'Dental Health',\n",
        "                                         'Employment', 'Stress Keeps Patient from Sleeping']].mean()\n",
        "\n",
        "# Calculate a composite score for each community (average of all health factors)\n",
        "community_health['Aging Issues Score'] = community_health.mean(axis=1)\n",
        "\n",
        "# Sort by the 'Aging Issues Score' to identify the community with the highest aging issues\n",
        "highest_aging_community = community_health['Aging Issues Score'].idxmin()  # Community with the lowest score\n",
        "highest_aging_score = community_health['Aging Issues Score'].min()\n",
        "\n",
        "print(f\"The community with the highest aging issues is {highest_aging_community} with a score of {highest_aging_score}.\")"
      ],
      "metadata": {
        "colab": {
          "base_uri": "https://localhost:8080/"
        },
        "id": "0wcAo1C4DEG7",
        "outputId": "b26206a8-4fc1-4768-c6dc-ec4c2d0a80bd"
      },
      "execution_count": 2,
      "outputs": [
        {
          "output_type": "stream",
          "name": "stdout",
          "text": [
            "The community with the highest aging issues is 1 with a score of 2.1491349480968855.\n"
          ]
        }
      ]
    },
    {
      "cell_type": "code",
      "source": [
        "# Group by 'Gender' and calculate the average of health-related columns\n",
        "gender_health = data.groupby('Gender')[['Phyiscal Health', 'Mental Health', 'Dental Health',\n",
        "                                         'Employment', 'Stress Keeps Patient from Sleeping']].mean()\n",
        "\n",
        "# Calculate a composite aging issues score for each gender\n",
        "gender_health['Aging Issues Score'] = gender_health.mean(axis=1)\n",
        "\n",
        "# Sort by Aging Issues Score to identify the gender with the most and least aging issues\n",
        "most_aging_gender = gender_health['Aging Issues Score'].idxmin()  # Gender with the lowest score (most aging issues)\n",
        "least_aging_gender = gender_health['Aging Issues Score'].idxmax()  # Gender with the highest score (least aging issues)\n",
        "\n",
        "most_aging_score = gender_health['Aging Issues Score'].min()\n",
        "least_aging_score = gender_health['Aging Issues Score'].max()\n",
        "\n",
        "print(f\"The gender with the most aging issues is {most_aging_gender} with a score of {most_aging_score}.\")\n",
        "print(f\"The gender with the least aging issues is {least_aging_gender} with a score of {least_aging_score}.\")"
      ],
      "metadata": {
        "id": "_ivAupsFDLQO"
      },
      "execution_count": null,
      "outputs": []
    },
    {
      "cell_type": "code",
      "source": [
        "# Correlation of Age, Employment, and Mental Stress with health factors\n",
        "correlations = data[['Age', 'Employment', 'Stress Keeps Patient from Sleeping',\n",
        "                     'Phyiscal Health', 'Mental Health', 'Dental Health']].corr()\n",
        "\n",
        "# Display correlation matrix\n",
        "print(\"Correlation between Age, Employment, Mental Stress and Health Aging Factors:\")\n",
        "print(correlations)\n",
        "\n",
        "# Specifically, we'll look at the correlations between Age, Employment, Stress, and health factors\n",
        "age_correlation = correlations['Age'][['Phyiscal Health', 'Mental Health', 'Dental Health']]\n",
        "employment_correlation = correlations['Employment'][['Phyiscal Health', 'Mental Health', 'Dental Health']]\n",
        "stress_correlation = correlations['Stress Keeps Patient from Sleeping'][['Phyiscal Health', 'Mental Health', 'Dental Health']]\n",
        "\n",
        "print(\"\\nAge correlation with health factors:\")\n",
        "print(age_correlation)\n",
        "\n",
        "print(\"\\nEmployment correlation with health factors:\")\n",
        "print(employment_correlation)\n",
        "\n",
        "print(\"\\nMental Stress correlation with health factors:\")\n",
        "print(stress_correlation)"
      ],
      "metadata": {
        "colab": {
          "base_uri": "https://localhost:8080/"
        },
        "id": "zg1j134ZDUOZ",
        "outputId": "f8958ee6-c951-4a63-dc8f-709f157a105a"
      },
      "execution_count": 3,
      "outputs": [
        {
          "output_type": "stream",
          "name": "stdout",
          "text": [
            "Correlation between Age, Employment, Mental Stress and Health Aging Factors:\n",
            "                                    Age  Employment  \\\n",
            "Age                                 NaN         NaN   \n",
            "Employment                          NaN    1.000000   \n",
            "Stress Keeps Patient from Sleeping  NaN   -0.043106   \n",
            "Phyiscal Health                     NaN    0.147526   \n",
            "Mental Health                       NaN    0.077469   \n",
            "Dental Health                       NaN    0.076156   \n",
            "\n",
            "                                    Stress Keeps Patient from Sleeping  \\\n",
            "Age                                                                NaN   \n",
            "Employment                                                   -0.043106   \n",
            "Stress Keeps Patient from Sleeping                            1.000000   \n",
            "Phyiscal Health                                               0.034014   \n",
            "Mental Health                                                 0.138074   \n",
            "Dental Health                                                -0.018446   \n",
            "\n",
            "                                    Phyiscal Health  Mental Health  \\\n",
            "Age                                             NaN            NaN   \n",
            "Employment                                 0.147526       0.077469   \n",
            "Stress Keeps Patient from Sleeping         0.034014       0.138074   \n",
            "Phyiscal Health                            1.000000       0.404705   \n",
            "Mental Health                              0.404705       1.000000   \n",
            "Dental Health                              0.404238       0.269770   \n",
            "\n",
            "                                    Dental Health  \n",
            "Age                                           NaN  \n",
            "Employment                               0.076156  \n",
            "Stress Keeps Patient from Sleeping      -0.018446  \n",
            "Phyiscal Health                          0.404238  \n",
            "Mental Health                            0.269770  \n",
            "Dental Health                            1.000000  \n",
            "\n",
            "Age correlation with health factors:\n",
            "Phyiscal Health   NaN\n",
            "Mental Health     NaN\n",
            "Dental Health     NaN\n",
            "Name: Age, dtype: float64\n",
            "\n",
            "Employment correlation with health factors:\n",
            "Phyiscal Health    0.147526\n",
            "Mental Health      0.077469\n",
            "Dental Health      0.076156\n",
            "Name: Employment, dtype: float64\n",
            "\n",
            "Mental Stress correlation with health factors:\n",
            "Phyiscal Health    0.034014\n",
            "Mental Health      0.138074\n",
            "Dental Health     -0.018446\n",
            "Name: Stress Keeps Patient from Sleeping, dtype: float64\n"
          ]
        }
      ]
    },
    {
      "cell_type": "code",
      "source": [
        "# Group by a relevant category (e.g., 'Gender', 'Race', or 'Age') and calculate the average number of doctor visits\n",
        "doctor_visits_by_category = data.groupby('Gender')['Number of Doctors Visited'].mean()\n",
        "\n",
        "# Find the category with the most number of doctor visits\n",
        "category_with_most_visits = doctor_visits_by_category.idxmax()  # Category with the highest mean visits\n",
        "most_visits = doctor_visits_by_category.max()\n",
        "\n",
        "print(f\"The category with the most number of doctor visits is {category_with_most_visits} with an average of {most_visits} visits.\")"
      ],
      "metadata": {
        "colab": {
          "base_uri": "https://localhost:8080/"
        },
        "id": "w91JkWvCDbBh",
        "outputId": "89ebb6a8-def4-473b-e197-55344a91e513"
      },
      "execution_count": 4,
      "outputs": [
        {
          "output_type": "stream",
          "name": "stdout",
          "text": [
            "The category with the most number of doctor visits is 1 with an average of 2.1121495327102804 visits.\n"
          ]
        }
      ]
    }
  ]
}